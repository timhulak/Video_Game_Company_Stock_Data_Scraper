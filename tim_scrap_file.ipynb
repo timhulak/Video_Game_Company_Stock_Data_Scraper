{
 "cells": [
  {
   "cell_type": "markdown",
   "metadata": {},
   "source": [
    "# Video Game Company Stock Data Scraper"
   ]
  },
  {
   "cell_type": "markdown",
   "metadata": {},
   "source": [
    "### Contributors: Tim Hulak (Stock Info) and Greg Leland (Headline info)"
   ]
  },
  {
   "cell_type": "markdown",
   "metadata": {},
   "source": [
    "Using Python and MongoDB, perform the Extract, Transform, and Load (ETL) process on stock data for 8 video game development companies (EA (EA), Nintendo (NTDOY), Ubisoft (UBSFY), Activision Blizzard (ATVI), Sega (SGAMY), Take Two Interactive (TTWO), Square Enix (SQNXF), Bandai Namco (NCBDF)). We chose not to include Microsoft Corporation, Sony Corp, or Tenchent Holding/ADR because their stock prices are not exclusively related to video game developmet."
   ]
  },
  {
   "cell_type": "markdown",
   "metadata": {},
   "source": [
    "### Potential kinds of analysis for this scraper:\n",
    "- Compare stock activity over time\n",
    "- Visualize stock info over time"
   ]
  },
  {
   "cell_type": "code",
   "execution_count": 1,
   "metadata": {},
   "outputs": [],
   "source": [
    "# Import Dependencies \n",
    "import pandas as pd \n",
    "import datetime as dt\n",
    "from bs4 import BeautifulSoup as soup\n",
    "import requests as r"
   ]
  },
  {
   "cell_type": "code",
   "execution_count": 3,
   "metadata": {},
   "outputs": [
    {
     "data": {
      "text/plain": [
       "['EA', 'NTDOY', 'UBSFY', 'ATVI', 'SGAMY', 'TTWO', 'SQNXF', 'NCBDF']"
      ]
     },
     "execution_count": 3,
     "metadata": {},
     "output_type": "execute_result"
    }
   ],
   "source": [
    "tickers = 'EA NTDOY UBSFY ATVI SGAMY TTWO SQNXF NCBDF '.split()"
   ]
  },
  {
   "cell_type": "code",
   "execution_count": 4,
   "metadata": {},
   "outputs": [],
   "source": [
    "ea_source = f\"https://finance.yahoo.com/quote/{tickers[0]}?p={tickers[0]}&.tsrc=fin-srch\"\n",
    "nintendo_source = f\"https://finance.yahoo.com/quote/{tickers[1]}?p={tickers[1]}&.tsrc=fin-srch\"\n",
    "ubisoft_source = f\"https://finance.yahoo.com/quote/{tickers[2]}?p={tickers[2]}&.tsrc=fin-srch\"\n",
    "activision_source = f\"https://finance.yahoo.com/quote/{tickers[3]}?p={tickers[3]}&.tsrc=fin-srch\"\n",
    "sega_source = f\"https://finance.yahoo.com/quote/{tickers[4]}?p={tickers[4]}&.tsrc=fin-srch\"\n",
    "take_two_source = f\"https://finance.yahoo.com/quote/{tickers[5]}?p={tickers[5]}&.tsrc=fin-srch\"\n",
    "square_source = f\"https://finance.yahoo.com/quote/{tickers[6]}?p={tickers[6]}&.tsrc=fin-srch\"\n",
    "bandai_source = f\"https://finance.yahoo.com/quote/{tickers[7]}?p={tickers[7]}&.tsrc=fin-srch\""
   ]
  },
  {
   "cell_type": "code",
   "execution_count": 5,
   "metadata": {},
   "outputs": [],
   "source": [
    "ea_soup = r.get(ea_source)\n",
    "nintendo_soup = r.get(nintendo_source)\n",
    "ubisoft_soup = r.get(ubisoft_source)\n",
    "activision_soup = r.get(activision_source)\n",
    "sega_soup = r.get(sega_source)\n",
    "take_two_soup = r.get(take_two_source)\n",
    "square_soup = r.get(square_source)\n",
    "bandai_soup = r.get(bandai_source)"
   ]
  },
  {
   "cell_type": "code",
   "execution_count": null,
   "metadata": {},
   "outputs": [],
   "source": [
    "#EA"
   ]
  },
  {
   "cell_type": "code",
   "execution_count": null,
   "metadata": {},
   "outputs": [],
   "source": []
  },
  {
   "cell_type": "code",
   "execution_count": null,
   "metadata": {},
   "outputs": [],
   "source": []
  },
  {
   "cell_type": "code",
   "execution_count": null,
   "metadata": {},
   "outputs": [],
   "source": [
    "#Nintendo"
   ]
  },
  {
   "cell_type": "code",
   "execution_count": null,
   "metadata": {},
   "outputs": [],
   "source": []
  },
  {
   "cell_type": "code",
   "execution_count": null,
   "metadata": {},
   "outputs": [],
   "source": []
  },
  {
   "cell_type": "code",
   "execution_count": null,
   "metadata": {},
   "outputs": [],
   "source": [
    "#ubisoft"
   ]
  },
  {
   "cell_type": "code",
   "execution_count": null,
   "metadata": {},
   "outputs": [],
   "source": []
  },
  {
   "cell_type": "code",
   "execution_count": null,
   "metadata": {},
   "outputs": [],
   "source": []
  },
  {
   "cell_type": "code",
   "execution_count": null,
   "metadata": {},
   "outputs": [],
   "source": [
    "#Activision Blizzard"
   ]
  },
  {
   "cell_type": "code",
   "execution_count": null,
   "metadata": {},
   "outputs": [],
   "source": []
  },
  {
   "cell_type": "code",
   "execution_count": null,
   "metadata": {},
   "outputs": [],
   "source": []
  },
  {
   "cell_type": "code",
   "execution_count": null,
   "metadata": {},
   "outputs": [],
   "source": [
    "#Sega"
   ]
  },
  {
   "cell_type": "code",
   "execution_count": null,
   "metadata": {},
   "outputs": [],
   "source": []
  },
  {
   "cell_type": "code",
   "execution_count": null,
   "metadata": {},
   "outputs": [],
   "source": []
  },
  {
   "cell_type": "code",
   "execution_count": null,
   "metadata": {},
   "outputs": [],
   "source": [
    "#Take Two"
   ]
  },
  {
   "cell_type": "code",
   "execution_count": null,
   "metadata": {},
   "outputs": [],
   "source": []
  },
  {
   "cell_type": "code",
   "execution_count": null,
   "metadata": {},
   "outputs": [],
   "source": []
  },
  {
   "cell_type": "code",
   "execution_count": null,
   "metadata": {},
   "outputs": [],
   "source": [
    "#Square Enix"
   ]
  },
  {
   "cell_type": "code",
   "execution_count": null,
   "metadata": {},
   "outputs": [],
   "source": []
  },
  {
   "cell_type": "code",
   "execution_count": null,
   "metadata": {},
   "outputs": [],
   "source": []
  },
  {
   "cell_type": "code",
   "execution_count": null,
   "metadata": {},
   "outputs": [],
   "source": [
    "#Bandai"
   ]
  },
  {
   "cell_type": "code",
   "execution_count": null,
   "metadata": {},
   "outputs": [],
   "source": []
  },
  {
   "cell_type": "code",
   "execution_count": null,
   "metadata": {},
   "outputs": [],
   "source": []
  }
 ],
 "metadata": {
  "kernelspec": {
   "display_name": "Python 3",
   "language": "python",
   "name": "python3"
  },
  "language_info": {
   "codemirror_mode": {
    "name": "ipython",
    "version": 3
   },
   "file_extension": ".py",
   "mimetype": "text/x-python",
   "name": "python",
   "nbconvert_exporter": "python",
   "pygments_lexer": "ipython3",
   "version": "3.6.8"
  }
 },
 "nbformat": 4,
 "nbformat_minor": 2
}
